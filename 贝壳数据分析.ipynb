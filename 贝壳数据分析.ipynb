{
 "cells": [
  {
   "cell_type": "code",
   "execution_count": 6,
   "metadata": {
    "collapsed": true
   },
   "outputs": [],
   "source": [
    "import pandas as pd\n",
    "import numpy as np\n",
    "import matplotlib.pyplot as plt\n",
    "from pymysql import *"
   ]
  },
  {
   "cell_type": "code",
   "execution_count": 7,
   "outputs": [],
   "source": [
    "conn = connect(host='localhost',port=3306,user='root',password='root',database='spiderdata',charset='utf8')\n",
    "df = pd.read_sql('select * from beikedata_community1',con=conn)\n"
   ],
   "metadata": {
    "collapsed": false,
    "pycharm": {
     "name": "#%%\n"
    }
   }
  },
  {
   "cell_type": "code",
   "execution_count": 8,
   "outputs": [
    {
     "data": {
      "text/plain": "          id      name      subway buildtime structure  propertycost  \\\n0       2990   新城金樾·华府                              板楼           1.5   \n1       2991   橘园路129号                                           1.0   \n2       2992    人民银行宿舍                            塔板结合           1.2   \n3       2993    利民巷29号                              塔楼           1.0   \n4       2994   万安街142号                              板楼           1.0   \n...      ...       ...         ...       ...       ...           ...   \n16807  19797  洗面桥横街20号  近地铁3号线衣冠庙站      1995        板楼           0.6   \n16808  19798     科华巷7号  近地铁3号线磨子桥站      1996        塔楼           1.0   \n16809  19799      青城顶尚                                          14.0   \n16810  19800   城北风景苑西区                                           3.0   \n16811  19801      书香雅舍                  1995        板楼           0.8   \n\n      propertycompany constructionunit  size      position quarterly_volume  \\\n0                None             None   407  (邛崃)拱辰大道206号             None   \n1                None             None    24   (金堂)橘园路129号             None   \n2                None             None    36   (金堂)金龙路135号             None   \n3                None             None    63    (金堂)利民巷29号             None   \n4                None             None     4   (金堂)万安街142号             None   \n...               ...              ...   ...           ...              ...   \n16807            None             None   108  (武侯)洗面桥横街20号             None   \n16808            None             None    36     (武侯)科华巷7号             None   \n16809            None             None   168  (都江堰)沙街路青城顶尚             None   \n16810            None             None    80   (都江堰)清池路47号             None   \n16811            None             None   522  (龙泉驿)江华路371号             None   \n\n      monthvisit  attention area  \\\n0           None          0   邛崃   \n1           None          0   金堂   \n2           None          0   金堂   \n3           None          0   金堂   \n4           None          0   金堂   \n...          ...        ...  ...   \n16807       None          6   武侯   \n16808       None          9   武侯   \n16809       None          2  都江堰   \n16810       None          1  都江堰   \n16811       None         70  龙泉驿   \n\n                                                    info bizcircle  \\\n0      板楼1.5至2.18元/平米/月西藏新城悦物业服务股份有限公司成都分公司邛崃亿睿房地产开发有...        邛崃   \n1                  未知类型暂无信息暂无信息暂无信息1栋24户/四川省成都市金堂县金龙路93号        金堂   \n2             塔板结合1.2元/平米/月暂无信息暂无信息2栋36户/四川省成都市金堂县金龙路93号        金堂   \n3                    塔楼暂无信息暂无信息暂无信息1栋63户/四川省成都市金堂县金龙路93号        金堂   \n4      板楼暂无信息暂无信息暂无信息1栋4户/四川省成都市金堂县赵镇滨江路一段470-472号1栋1...        金堂   \n...                                                  ...       ...   \n16807              板楼0.6元/平米/月私人承办物业无开发商4栋108户/兴蓉街27号附1号        华西   \n16808                  塔楼暂无信息无物业管理服务无开发商1栋36户/领事馆路12号-附8        棕北   \n16809                      未知类型暂无信息暂无信息暂无信息14栋168户暂无门店信息       青城山   \n16810            未知类型暂无信息暂无信息暂无信息3栋80户/四川省成都市都江堰市蒲阳路563号       都江堰   \n16811  板楼0.8至1.2元/平米/月成都宇辉物业管理公司文昌书香小镇发展有限公司9栋522户/四川...        十陵   \n\n                                             houseurl  \n0      http://cd.ke.com/ershoufang/c1620047750294641/  \n1      http://cd.ke.com/ershoufang/c1620055607441669/  \n2      http://cd.ke.com/ershoufang/c1620053864438450/  \n3      http://cd.ke.com/ershoufang/c1620054875423059/  \n4      http://cd.ke.com/ershoufang/c1620048911273405/  \n...                                               ...  \n16807   http://cd.ke.com/ershoufang/c169842339622793/  \n16808     http://cd.ke.com/ershoufang/c3011052632675/  \n16809  http://cd.ke.com/ershoufang/c1620045016240006/  \n16810  http://cd.ke.com/ershoufang/c1620033257503798/  \n16811     http://cd.ke.com/ershoufang/c3011053968774/  \n\n[16812 rows x 17 columns]",
      "text/html": "<div>\n<style scoped>\n    .dataframe tbody tr th:only-of-type {\n        vertical-align: middle;\n    }\n\n    .dataframe tbody tr th {\n        vertical-align: top;\n    }\n\n    .dataframe thead th {\n        text-align: right;\n    }\n</style>\n<table border=\"1\" class=\"dataframe\">\n  <thead>\n    <tr style=\"text-align: right;\">\n      <th></th>\n      <th>id</th>\n      <th>name</th>\n      <th>subway</th>\n      <th>buildtime</th>\n      <th>structure</th>\n      <th>propertycost</th>\n      <th>propertycompany</th>\n      <th>constructionunit</th>\n      <th>size</th>\n      <th>position</th>\n      <th>quarterly_volume</th>\n      <th>monthvisit</th>\n      <th>attention</th>\n      <th>area</th>\n      <th>info</th>\n      <th>bizcircle</th>\n      <th>houseurl</th>\n    </tr>\n  </thead>\n  <tbody>\n    <tr>\n      <th>0</th>\n      <td>2990</td>\n      <td>新城金樾·华府</td>\n      <td></td>\n      <td></td>\n      <td>板楼</td>\n      <td>1.5</td>\n      <td>None</td>\n      <td>None</td>\n      <td>407</td>\n      <td>(邛崃)拱辰大道206号</td>\n      <td>None</td>\n      <td>None</td>\n      <td>0</td>\n      <td>邛崃</td>\n      <td>板楼1.5至2.18元/平米/月西藏新城悦物业服务股份有限公司成都分公司邛崃亿睿房地产开发有...</td>\n      <td>邛崃</td>\n      <td>http://cd.ke.com/ershoufang/c1620047750294641/</td>\n    </tr>\n    <tr>\n      <th>1</th>\n      <td>2991</td>\n      <td>橘园路129号</td>\n      <td></td>\n      <td></td>\n      <td></td>\n      <td>1.0</td>\n      <td>None</td>\n      <td>None</td>\n      <td>24</td>\n      <td>(金堂)橘园路129号</td>\n      <td>None</td>\n      <td>None</td>\n      <td>0</td>\n      <td>金堂</td>\n      <td>未知类型暂无信息暂无信息暂无信息1栋24户/四川省成都市金堂县金龙路93号</td>\n      <td>金堂</td>\n      <td>http://cd.ke.com/ershoufang/c1620055607441669/</td>\n    </tr>\n    <tr>\n      <th>2</th>\n      <td>2992</td>\n      <td>人民银行宿舍</td>\n      <td></td>\n      <td></td>\n      <td>塔板结合</td>\n      <td>1.2</td>\n      <td>None</td>\n      <td>None</td>\n      <td>36</td>\n      <td>(金堂)金龙路135号</td>\n      <td>None</td>\n      <td>None</td>\n      <td>0</td>\n      <td>金堂</td>\n      <td>塔板结合1.2元/平米/月暂无信息暂无信息2栋36户/四川省成都市金堂县金龙路93号</td>\n      <td>金堂</td>\n      <td>http://cd.ke.com/ershoufang/c1620053864438450/</td>\n    </tr>\n    <tr>\n      <th>3</th>\n      <td>2993</td>\n      <td>利民巷29号</td>\n      <td></td>\n      <td></td>\n      <td>塔楼</td>\n      <td>1.0</td>\n      <td>None</td>\n      <td>None</td>\n      <td>63</td>\n      <td>(金堂)利民巷29号</td>\n      <td>None</td>\n      <td>None</td>\n      <td>0</td>\n      <td>金堂</td>\n      <td>塔楼暂无信息暂无信息暂无信息1栋63户/四川省成都市金堂县金龙路93号</td>\n      <td>金堂</td>\n      <td>http://cd.ke.com/ershoufang/c1620054875423059/</td>\n    </tr>\n    <tr>\n      <th>4</th>\n      <td>2994</td>\n      <td>万安街142号</td>\n      <td></td>\n      <td></td>\n      <td>板楼</td>\n      <td>1.0</td>\n      <td>None</td>\n      <td>None</td>\n      <td>4</td>\n      <td>(金堂)万安街142号</td>\n      <td>None</td>\n      <td>None</td>\n      <td>0</td>\n      <td>金堂</td>\n      <td>板楼暂无信息暂无信息暂无信息1栋4户/四川省成都市金堂县赵镇滨江路一段470-472号1栋1...</td>\n      <td>金堂</td>\n      <td>http://cd.ke.com/ershoufang/c1620048911273405/</td>\n    </tr>\n    <tr>\n      <th>...</th>\n      <td>...</td>\n      <td>...</td>\n      <td>...</td>\n      <td>...</td>\n      <td>...</td>\n      <td>...</td>\n      <td>...</td>\n      <td>...</td>\n      <td>...</td>\n      <td>...</td>\n      <td>...</td>\n      <td>...</td>\n      <td>...</td>\n      <td>...</td>\n      <td>...</td>\n      <td>...</td>\n      <td>...</td>\n    </tr>\n    <tr>\n      <th>16807</th>\n      <td>19797</td>\n      <td>洗面桥横街20号</td>\n      <td>近地铁3号线衣冠庙站</td>\n      <td>1995</td>\n      <td>板楼</td>\n      <td>0.6</td>\n      <td>None</td>\n      <td>None</td>\n      <td>108</td>\n      <td>(武侯)洗面桥横街20号</td>\n      <td>None</td>\n      <td>None</td>\n      <td>6</td>\n      <td>武侯</td>\n      <td>板楼0.6元/平米/月私人承办物业无开发商4栋108户/兴蓉街27号附1号</td>\n      <td>华西</td>\n      <td>http://cd.ke.com/ershoufang/c169842339622793/</td>\n    </tr>\n    <tr>\n      <th>16808</th>\n      <td>19798</td>\n      <td>科华巷7号</td>\n      <td>近地铁3号线磨子桥站</td>\n      <td>1996</td>\n      <td>塔楼</td>\n      <td>1.0</td>\n      <td>None</td>\n      <td>None</td>\n      <td>36</td>\n      <td>(武侯)科华巷7号</td>\n      <td>None</td>\n      <td>None</td>\n      <td>9</td>\n      <td>武侯</td>\n      <td>塔楼暂无信息无物业管理服务无开发商1栋36户/领事馆路12号-附8</td>\n      <td>棕北</td>\n      <td>http://cd.ke.com/ershoufang/c3011052632675/</td>\n    </tr>\n    <tr>\n      <th>16809</th>\n      <td>19799</td>\n      <td>青城顶尚</td>\n      <td></td>\n      <td></td>\n      <td></td>\n      <td>14.0</td>\n      <td>None</td>\n      <td>None</td>\n      <td>168</td>\n      <td>(都江堰)沙街路青城顶尚</td>\n      <td>None</td>\n      <td>None</td>\n      <td>2</td>\n      <td>都江堰</td>\n      <td>未知类型暂无信息暂无信息暂无信息14栋168户暂无门店信息</td>\n      <td>青城山</td>\n      <td>http://cd.ke.com/ershoufang/c1620045016240006/</td>\n    </tr>\n    <tr>\n      <th>16810</th>\n      <td>19800</td>\n      <td>城北风景苑西区</td>\n      <td></td>\n      <td></td>\n      <td></td>\n      <td>3.0</td>\n      <td>None</td>\n      <td>None</td>\n      <td>80</td>\n      <td>(都江堰)清池路47号</td>\n      <td>None</td>\n      <td>None</td>\n      <td>1</td>\n      <td>都江堰</td>\n      <td>未知类型暂无信息暂无信息暂无信息3栋80户/四川省成都市都江堰市蒲阳路563号</td>\n      <td>都江堰</td>\n      <td>http://cd.ke.com/ershoufang/c1620033257503798/</td>\n    </tr>\n    <tr>\n      <th>16811</th>\n      <td>19801</td>\n      <td>书香雅舍</td>\n      <td></td>\n      <td>1995</td>\n      <td>板楼</td>\n      <td>0.8</td>\n      <td>None</td>\n      <td>None</td>\n      <td>522</td>\n      <td>(龙泉驿)江华路371号</td>\n      <td>None</td>\n      <td>None</td>\n      <td>70</td>\n      <td>龙泉驿</td>\n      <td>板楼0.8至1.2元/平米/月成都宇辉物业管理公司文昌书香小镇发展有限公司9栋522户/四川...</td>\n      <td>十陵</td>\n      <td>http://cd.ke.com/ershoufang/c3011053968774/</td>\n    </tr>\n  </tbody>\n</table>\n<p>16812 rows × 17 columns</p>\n</div>"
     },
     "execution_count": 8,
     "metadata": {},
     "output_type": "execute_result"
    }
   ],
   "source": [
    "df"
   ],
   "metadata": {
    "collapsed": false,
    "pycharm": {
     "name": "#%%\n"
    }
   }
  }
 ],
 "metadata": {
  "kernelspec": {
   "display_name": "Python 3",
   "language": "python",
   "name": "python3"
  },
  "language_info": {
   "codemirror_mode": {
    "name": "ipython",
    "version": 2
   },
   "file_extension": ".py",
   "mimetype": "text/x-python",
   "name": "python",
   "nbconvert_exporter": "python",
   "pygments_lexer": "ipython2",
   "version": "2.7.6"
  }
 },
 "nbformat": 4,
 "nbformat_minor": 0
}